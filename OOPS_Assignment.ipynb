{
  "nbformat": 4,
  "nbformat_minor": 0,
  "metadata": {
    "colab": {
      "provenance": []
    },
    "kernelspec": {
      "name": "python3",
      "display_name": "Python 3"
    },
    "language_info": {
      "name": "python"
    }
  },
  "cells": [
    {
      "cell_type": "markdown",
      "source": [
        "#Theoritical questions"
      ],
      "metadata": {
        "id": "9KzZUqkhxLST"
      }
    },
    {
      "cell_type": "markdown",
      "source": [
        "**1. What is Object-Oriented Programming (OOP)?**\n",
        "- Object-Oriented Programming (OOP) is a programming paradigm based on the concept of objects, which bundle data (attributes) and methods (functions) together. It promotes code reusability, modularity, and scalability.\n",
        "- Key Principles of OOP:\n",
        ">1. Encapsulation – Hiding data within a class and exposing only necessary parts.\n",
        ">2. Abstraction – Hiding implementation details and showing only essential features.\n",
        ">3. Inheritance – Allowing a class to derive properties and behavior from another class.\n",
        ">4. Polymorphism – Enabling one interface to be used for different data types\n",
        "---\n",
        "\n",
        "\n"
      ],
      "metadata": {
        "id": "a-zjoPlhxWK0"
      }
    },
    {
      "cell_type": "markdown",
      "source": [
        "**2. What is a class in OOP?**\n",
        "- In Python, a class is a blueprint for creating objects. It defines attributes (variables) and methods (functions) that the objects will have.\n",
        "\n",
        "---"
      ],
      "metadata": {
        "id": "bwPjYzsIBqAM"
      }
    },
    {
      "cell_type": "markdown",
      "source": [
        "**3. What is an object in OOP?**\n",
        "- In Python, an object is an instance of a class. It represents a real-world entity and has its own attributes (data) and methods (functions)."
      ],
      "metadata": {
        "id": "tn2ebowyCKej"
      }
    },
    {
      "cell_type": "code",
      "source": [
        "class Car: #class\n",
        "    def __init__(self, brand, model):\n",
        "        self.brand = brand\n",
        "        self.model = model\n",
        "\n",
        "    def display_info(self):\n",
        "        return f\"{self.brand} {self.model}\"\n",
        "\n",
        "# Creating objects (instances of Car class)\n",
        "car1 = Car(\"Toyota\", \"Corolla\")\n",
        "car2 = Car(\"Honda\", \"Civic\")\n",
        "\n",
        "print(car1.display_info())\n",
        "print(car2.display_info())"
      ],
      "metadata": {
        "id": "PQhL2F7ZCLSh"
      },
      "execution_count": null,
      "outputs": []
    },
    {
      "cell_type": "markdown",
      "source": [
        "- Here, `car1` and `car2` are objects of the `car` class, each with unique data.\n",
        "---"
      ],
      "metadata": {
        "id": "JTCq_04mCjec"
      }
    },
    {
      "cell_type": "markdown",
      "source": [
        "**4. What is the difference between abstraction and encapsulation?**\n",
        "\n",
        "| Feature         | Abstraction                              | Encapsulation                          |\n",
        "|----------------|---------------------------------|----------------------------------|\n",
        "| **Definition** | Hides implementation details, showing only essential features. | Restricts direct access to data and modifies it via methods. |\n",
        "| **Purpose**    | Simplifies complexity for users. | Protects data and ensures controlled access. |\n",
        "| **Implementation** | Achieved using abstract classes and methods (`abc` module). | Achieved using private (`__var`) and protected (`_var`) attributes. |\n",
        "| **Example**    | Hiding internal logic of a method while exposing only functionality. | Using getter/setter methods to control variable access. |\n",
        "\n",
        "---"
      ],
      "metadata": {
        "id": "dGQqiMREDUXl"
      }
    },
    {
      "cell_type": "markdown",
      "source": [
        "**5. What are dunder methods in Python?**\n",
        "- Dunder (Double Under) methods are special methods in Python that start and end with double underscores (__method__). They enable operator overloading, custom object behavior, and built-in function integration.\n",
        "---"
      ],
      "metadata": {
        "id": "2H04e2sDCnxf"
      }
    },
    {
      "cell_type": "markdown",
      "source": [
        "**6.  Explain the concept of inheritance in OOP.**\n",
        "- Inheritance is an OOP concept where a class (child/derived class) inherits attributes and methods from another class (parent/base class). This promotes code reusability and hierarchical relationships.\n",
        "\n",
        "- Types of Inheritance in Python:\n",
        "1. Single Inheritance – One class inherits from another.\n",
        "2. Multiple Inheritance – A class inherits from multiple parent classes.\n",
        "3. Multilevel Inheritance – A derived class inherits from another derived class.\n",
        "4. Hierarchical Inheritance – Multiple classes inherit from a single parent class.\n",
        "5. Hybrid Inheritance – A combination of multiple inheritance types.\n",
        "---"
      ],
      "metadata": {
        "id": "S659Aau3EC4Y"
      }
    },
    {
      "cell_type": "markdown",
      "source": [
        "**7. What is polymorphism in OOP?**\n",
        "- Polymorphism means \"many forms\" and allows a single function or method to work with different data types or objects. It enables code flexibility and reusability.\n",
        "\n",
        "- Types of Polymorphism:\n",
        "1. Method Overriding – A child class redefines a method from the parent class.\n",
        "2. Method Overloading – Same method name but different parameters (Python handles it using default values or *args).\n",
        "3. Operator Overloading – Redefining built-in operators (+, *, etc.) for custom classes using dunder methods.\n",
        "---"
      ],
      "metadata": {
        "id": "lgx1PuWzEct0"
      }
    },
    {
      "cell_type": "markdown",
      "source": [
        "**8. How is encapsulation achieved in Python?**\n",
        "- Encapsulation is an OOP concept that restricts direct access to data and allows controlled access through methods. In Python, it is implemented using public, protected, and private access modifiers.\n",
        "\n",
        "| Modifier  | Syntax      | Accessibility |\n",
        "|-----------|------------|--------------|\n",
        "| **Public** | `self.var` | Accessible anywhere. |\n",
        "| **Protected** | `self._var` | Meant for internal use, accessible in subclasses. |\n",
        "| **Private** | `self.__var` | Not directly accessible outside the class (name mangled). |\n",
        "\n",
        "---"
      ],
      "metadata": {
        "id": "XiBvuLUuEz9c"
      }
    },
    {
      "cell_type": "markdown",
      "source": [
        "**9. What is a constructor in Python?**\n",
        "- A constructor is a special method used to initialize an object’s attributes when it is created. In Python, the constructor method is `__init__()`.\n",
        "\n",
        "- Key Points:\n",
        "1. Atomatically called when an object is created.\n",
        "2. Used to assign initial values to object attributes.\n",
        "3. Defined inside a class using `def __init__(self, ...)`.\n",
        "---"
      ],
      "metadata": {
        "id": "h3v5xY_JI45Z"
      }
    },
    {
      "cell_type": "markdown",
      "source": [
        "**10. What are class and static methods in Python?**\n",
        "- Class Method:\n",
        ">- A class method is bound to the class and not the instance.\n",
        ">- Defined using the `@classmethod` decorator.\n",
        ">- Takes `cls` (the class itself) as the first parameter.\n",
        ">- Can modify class-level attributes, but cannot modify instance-level attributes.\n",
        "- Static Method:\n",
        ">- A static method is not bound to the class or instance.\n",
        ">- Defined using the `@staticmethod` decorator.\n",
        ">- Does not take `self` or `cls` as the first parameter.\n",
        ">- Cannot access or modify instance or class attributes.\n",
        "---\n",
        "\n",
        "**11. What is method overloading in Python?**\n",
        "- Method Overloading refers to defining multiple methods with the same name but different parameter lists. However, Python does not support method overloading directly like other languages (e.g., Java, C++). If multiple methods with the same name are defined, the last one will overwrite the previous ones.\n",
        "\n",
        "- Instead, method overloading in Python can be achieved through:\n",
        "1. Default Arguments\n",
        "2. Variable-Length Arguments (`*args`, `**kwargs`)\n",
        "---\n",
        "\n",
        "**12. What is method overriding in OOP?**\n",
        "- Method Overriding occurs when a child class provides a specific implementation of a method that is already defined in its parent class. The child class method replaces the parent class method when called on an instance of the child class.\n",
        "---\n",
        "\n",
        "**13. What is a property decorator in Python?**\n",
        "- The `@property` decorator in Python is used to define a getter method for a class attribute, allowing you to access it like an ordinary attribute while still controlling its behavior. It provides a way to manage the retrieval of attribute values, and it can be used to define read-only properties or perform additional processing.\n",
        "---\n",
        "\n",
        "**14. Why is polymorphism important in OOP?**\n",
        "- Polymorphism is a core concept in Object-Oriented Programming (OOP), and it plays a significant role in enhancing code flexibility, reusability, and maintainability.\n",
        "\n",
        "1. Code Reusability\n",
        "- Polymorphism allows the use of a single interface to represent different underlying forms (objects). This enables code that is reusable across different classes that implement the same method or interface.\n",
        "\n",
        "2. Simplifies Code Maintenance\n",
        "- With polymorphism, you can write generic code that works with different types of objects. As the system evolves, adding new classes doesn't require changes to the existing code, thus making maintenance easier.\n",
        "\n",
        "3. Reduces Complexity\n",
        "- Instead of handling multiple specific types, polymorphism allows you to treat different types uniformly using the same method name or interface. This simplifies complex systems by abstracting away specific implementation details.\n",
        "\n",
        "4. Promotes Flexibility and Extensibility\n",
        "- Polymorphism enables objects of different classes to be treated as objects of a common superclass or interface. This allows new classes to be introduced without altering the existing code that interacts with the superclass.\n",
        "\n",
        "5. Supports Method Overriding and Dynamic Dispatch\n",
        "- Polymorphism facilitates method overriding, where a subclass can provide a specific implementation of a method defined in the superclass. The correct method is called based on the actual object type, not the reference type, making it dynamic and flexible at runtime.\n",
        "---\n",
        "\n",
        "**15.  What is an abstract class in Python?**\n",
        "- An abstract class in Python is a class that cannot be instantiated on its own and is meant to be subclassed by other classes. It defines a common interface for all its subclasses but may contain some methods with no implementation (abstract methods), forcing the subclasses to provide their own implementations.\n",
        "---\n",
        "\n",
        "**16. What are the advantages of OOP?**\n",
        "1. Code Reusability\n",
        "- OOP promotes code reuse through inheritance, allowing the reuse of common functionality across multiple classes. Once a class is created, it can be inherited by other classes, thus reducing redundancy and making the code easier to maintain.\n",
        "\n",
        "2. Modularity\n",
        " -OOP divides a program into smaller, manageable pieces (objects), each representing a specific functionality. This modular structure makes the code more organized, easier to debug, and enhances the understanding of each part.\n",
        "\n",
        "3. Encapsulation\n",
        "- OOP allows encapsulation, where data is bundled together with the methods that operate on that data. This helps in data hiding, making the internals of an object hidden and protected from outside interference, thus reducing complexity and potential errors.\n",
        "\n",
        "4. Inheritance\n",
        "- Inheritance allows for the creation of new classes based on existing classes. This means that you can extend the functionality of a parent class and reuse the attributes and methods without rewriting them, leading to less code duplication and better maintainability.\n",
        "\n",
        "5. Polymorphism\n",
        "- Polymorphism enables objects of different classes to be treated as objects of a common superclass. This allows for the use of a common interface while still allowing individual behavior for each object, providing flexibility and extensibility in the code.\n",
        "\n",
        "6. Flexibility and Extensibility\n",
        "- OOP systems are easier to extend because new classes can be added with minimal changes to existing code. Methods and properties can be added to existing classes, and the behavior of objects can be easily modified.\n",
        "\n",
        "7. Improved Productivity\n",
        "- The use of OOP principles promotes better software design, which leads to faster development and easier management. It enables parallel development by different teams and better collaboration, as different parts of the software are independent and encapsulated.\n",
        "\n",
        "8. Easier to Maintain and Modify\n",
        "- OOP systems tend to be easier to maintain and modify due to their modular structure. Changes in one class typically do not affect other classes, making it easier to upgrade or enhance individual components without disrupting the entire system.\n",
        "\n",
        "9. Better Collaboration and Communication\n",
        "- Since OOP is based on real-world entities (objects), it’s easier for developers, business analysts, and stakeholders to understand and collaborate on the design of the software. The objects in the system often align with real-world concepts, making communication smoother.\n",
        "\n",
        "10. Data Integrity and Security\n",
        "- Through encapsulation, sensitive data is protected from external access. This ensures that data can only be modified through well-defined methods, improving the overall integrity and security of the system.\n",
        "---\n",
        "\n",
        "**17. What is the difference between a class variable and an instance variable?**\n",
        "\n",
        "| **Feature**                | **Class Variable**                                       | **Instance Variable**                                      |\n",
        "|----------------------------|-----------------------------------------------------------|-------------------------------------------------------------|\n",
        "| **Definition**              | A variable that is shared by all instances of a class.    | A variable that is specific to an instance of a class.     |\n",
        "| **Scope**                   | Belongs to the class itself, not any individual object.    | Belongs to a specific object created from the class.       |\n",
        "| **Access**                  | Accessed using the class name or object, but shared by all objects. | Accessed using the object instance.                        |\n",
        "| **Memory**                  | A single copy of the variable is shared by all instances.  | Each object gets its own copy of the variable.             |\n",
        "| **Modification**            | Modifying a class variable affects all instances of the class. | Modifying an instance variable affects only that instance. |\n",
        "| **Default Value**           | Typically initialized outside methods, directly in the class body. | Initialized in the constructor (`__init__` method).        |\n",
        "| **Example**                 | `class Car: speed = 0` (shared across all instances)      | `self.speed = 0` (specific to each car object)             |\n",
        "\n",
        "---\n",
        "\n",
        "**18. What is multiple inheritance in Python?**\n",
        "- Multiple Inheritance is a feature in Python where a class can inherit attributes and methods from more than one parent class. This allows a class to combine functionality from multiple classes.\n",
        "\n",
        "- Key Points:\n",
        "1. A subclass can inherit from more than one parent class.\n",
        "2. The subclass can override or extend methods from multiple parent classes.\n",
        "3. Python supports multiple inheritance, unlike some other languages that restrict it to single inheritance.\n",
        "---\n",
        "\n",
        "**19. Explain the purpose of ‘’\\__str__’ and ‘\\__repr__’ ‘ methods in Python**\n",
        "- Both \\__str__ and \\__repr__ are special methods in Python used to define how an object is represented as a string. However, they serve different purposes and are used in different contexts.\n",
        "1. \\__str__ Method:\n",
        "- The \\__str__ method is meant to define the string representation of an object for the end user.\n",
        "- It is used when you pass the object to print() or str().\n",
        "- The \\__str__ method is meant to be human-readable, describing the object in a clear and simple way.\n",
        "2. \\__repr__ Method:\n",
        "- The \\__repr__ method defines the official string representation of an object for the developer.\n",
        "- It is used by repr() and in interactive environments (like the Python shell or IDE).\n",
        "- The \\__repr__ method should ideally return a string that could be used to recreate the object using eval().\n",
        "- If \\__str__ is not defined, Python will fall back to \\__repr__.\n",
        "---\n",
        "\n",
        "**20. What is the significance of the ‘`super()`’ function in Python?**\n",
        "- The `super()` function in Python is used to call methods from a parent class in a subclass. It is commonly used in inheritance to access inherited methods or attributes from a superclass, without explicitly naming the superclass. This allows for more flexible and maintainable code.\n",
        "---\n",
        "\n",
        "**21. What is the significance of the `\\__del__` method in Python?**\n",
        "- The `__del__` method in Python is a special method used for destruction or cleanup of objects. It is called when an object is about to be destroyed.\n",
        "- Key Points:\n",
        "1. `__del__` is called when an object is destroyed, which happens when the reference count of an object reaches zero.\n",
        "2. It is used to release external resources (like file handles, network connections, or database connections) that are held by the object.\n",
        "3. `__del__` is the destructor method in Python and is automatically invoked when an object is deleted or goes out of scope.\n",
        "---\n",
        "\n",
        "**22. What is the difference between @staticmethod and @classmethod in Python?**\n",
        "\n",
        "| **Aspect**              | **`@staticmethod`**                                   | **`@classmethod`**                                         |\n",
        "|-------------------------|------------------------------------------------------|-----------------------------------------------------------|\n",
        "| **Binding**             | Does not bind to the class or instance.              | Binds to the class, not the instance.                     |\n",
        "| **First Argument**      | No implicit first argument (no `self` or `cls`).     | The first argument is `cls` (the class itself).           |\n",
        "| **Access**              | Cannot modify the state of the class or instance.    | Can modify the class state, but not the instance state.   |\n",
        "| **Usage**               | Used for utility functions that do not need access to the class or instance. | Used for factory methods or methods that operate on the class as a whole. |\n",
        "| **Call**                | Can be called without an instance or class reference. | Can be called with either a class or an instance.         |\n",
        "| **Example**             | `staticmethod(func)`                                 | `classmethod(func)`                                        |\n",
        "\n",
        "---\n",
        "\n",
        "**23. How does polymorphism work in Python with inheritance?**\n",
        "- Polymorphism in Python refers to the ability of different classes to respond to the same method in different ways. It allows objects of different types to be treated as instances of the same class through a shared method name, making the code more flexible and extensible.\n",
        "\n",
        "- In the context of inheritance, polymorphism allows child classes to define methods with the same name as those in the parent class but with different behavior (method overriding). This is known as method overriding and is a common form of polymorphism in object-oriented programming.\n",
        "---\n",
        "\n",
        "**24. What is method chaining in Python OOP?**\n",
        "- Method chaining refers to the technique where multiple methods are called on the same object in a single line of code. This is possible when each method returns the object itself (usually self), allowing subsequent methods to be called directly on the same object.\n",
        "---\n",
        "\n",
        "**25. What is the purpose of the `__call__` method in Python?**\n",
        "- In Python, the `__call__` method is a special method that allows an instance of a class to be called like a function. When an object of a class has a `__call__` method, you can invoke the object itself with parentheses, passing arguments as if the object were a function."
      ],
      "metadata": {
        "id": "aIdRBYVvJXnh"
      }
    },
    {
      "cell_type": "markdown",
      "source": [
        "#Practicle Questions:"
      ],
      "metadata": {
        "id": "f_Dhx-PISPBm"
      }
    },
    {
      "cell_type": "code",
      "source": [
        "#1. Create a parent class Animal with a method speak() that prints a generic message. Create a child class Dog that overrides the speak() method to print \"Bark!\".\n",
        "# Parent class\n",
        "class Animal:\n",
        "    def speak(self):\n",
        "        print(\"Animal makes a sound\")\n",
        "\n",
        "# Child class\n",
        "class Dog(Animal):\n",
        "    def speak(self):\n",
        "        print(\"Bark!\")\n",
        "\n",
        "# Create objects of the classes\n",
        "animal = Animal()\n",
        "dog = Dog()\n",
        "\n",
        "# Call speak() method\n",
        "animal.speak()\n",
        "dog.speak()"
      ],
      "metadata": {
        "colab": {
          "base_uri": "https://localhost:8080/"
        },
        "id": "fKyVLacGSTUt",
        "outputId": "06d06eca-24a3-4515-ec99-e50a92b2d712"
      },
      "execution_count": 1,
      "outputs": [
        {
          "output_type": "stream",
          "name": "stdout",
          "text": [
            "Animal makes a sound\n",
            "Bark!\n"
          ]
        }
      ]
    },
    {
      "cell_type": "code",
      "source": [
        "#2. Write a program to create an abstract class Shape with a method area(). Derive classes Circle and Rectangle from it and implement the area() method in both.\n",
        "from abc import ABC, abstractmethod\n",
        "import math\n",
        "\n",
        "# Abstract class\n",
        "class Shape(ABC):\n",
        "    @abstractmethod\n",
        "    def area(self):\n",
        "        pass\n",
        "\n",
        "# Derived class for Circle\n",
        "class Circle(Shape):\n",
        "    def __init__(self, radius):\n",
        "        self.radius = radius\n",
        "\n",
        "    def area(self):\n",
        "        return math.pi * self.radius ** 2\n",
        "\n",
        "# Derived class for Rectangle\n",
        "class Rectangle(Shape):\n",
        "    def __init__(self, length, width):\n",
        "        self.length = length\n",
        "        self.width = width\n",
        "\n",
        "    def area(self):\n",
        "        return self.length * self.width\n",
        "\n",
        "# Create objects of Circle and Rectangle\n",
        "circle = Circle(5)\n",
        "rectangle = Rectangle(4, 6)\n",
        "\n",
        "# Call the area method\n",
        "print(\"Area of Circle:\", circle.area())\n",
        "print(\"Area of Rectangle:\", rectangle.area())\n",
        "\n",
        "\n",
        "\n"
      ],
      "metadata": {
        "colab": {
          "base_uri": "https://localhost:8080/"
        },
        "id": "B7LeNwBESxRt",
        "outputId": "6ca22132-8f21-4e21-8b16-6cf9c85850e4"
      },
      "execution_count": 2,
      "outputs": [
        {
          "output_type": "stream",
          "name": "stdout",
          "text": [
            "Area of Circle: 78.53981633974483\n",
            "Area of Rectangle: 24\n"
          ]
        }
      ]
    },
    {
      "cell_type": "code",
      "source": [
        "#3.  Implement a multi-level inheritance scenario where a class Vehicle has an attribute type. Derive a class Car and further derive a class ElectricCar that adds a battery attribute.\n",
        "# Base class\n",
        "class Vehicle:\n",
        "    def __init__(self, vehicle_type):\n",
        "        self.vehicle_type = vehicle_type\n",
        "\n",
        "    def display_type(self):\n",
        "        print(f\"Vehicle Type: {self.vehicle_type}\")\n",
        "\n",
        "# Derived class Car\n",
        "class Car(Vehicle):\n",
        "    def __init__(self, vehicle_type, brand):\n",
        "        super().__init__(vehicle_type)\n",
        "        self.brand = brand\n",
        "\n",
        "    def display_brand(self):\n",
        "        print(f\"Car Brand: {self.brand}\")\n",
        "\n",
        "# Further derived class ElectricCar\n",
        "class ElectricCar(Car):\n",
        "    def __init__(self, vehicle_type, brand, battery_capacity):\n",
        "        super().__init__(vehicle_type, brand)\n",
        "        self.battery_capacity = battery_capacity\n",
        "\n",
        "    def display_battery(self):\n",
        "        print(f\"Battery Capacity: {self.battery_capacity} kWh\")\n",
        "\n",
        "# Create an object of ElectricCar\n",
        "electric_car = ElectricCar(\"Electric\", \"Tesla\", 100)\n",
        "\n",
        "# Call methods from all levels\n",
        "electric_car.display_type()\n",
        "electric_car.display_brand()\n",
        "electric_car.display_battery()"
      ],
      "metadata": {
        "colab": {
          "base_uri": "https://localhost:8080/"
        },
        "id": "cfOfsMGsTItq",
        "outputId": "2d899558-2391-4f03-b30e-12276b99937e"
      },
      "execution_count": 3,
      "outputs": [
        {
          "output_type": "stream",
          "name": "stdout",
          "text": [
            "Vehicle Type: Electric\n",
            "Car Brand: Tesla\n",
            "Battery Capacity: 100 kWh\n"
          ]
        }
      ]
    },
    {
      "cell_type": "code",
      "source": [
        "#4. Demonstrate polymorphism by creating a base class Bird with a method fly(). Create two derived classes Sparrow and Penguin that override the fly() method.\n",
        "\n",
        "# Base class\n",
        "class Bird:\n",
        "    def fly(self):\n",
        "        print(\"This bird can fly.\")\n",
        "\n",
        "# Derived class Sparrow\n",
        "class Sparrow(Bird):\n",
        "    def fly(self):\n",
        "        print(\"Sparrow flies high in the sky.\")\n",
        "\n",
        "# Derived class Penguin\n",
        "class Penguin(Bird):\n",
        "    def fly(self):\n",
        "        print(\"Penguins cannot fly, but they can swim.\")\n",
        "\n",
        "# Create objects of Sparrow and Penguin\n",
        "sparrow = Sparrow()\n",
        "penguin = Penguin()\n",
        "\n",
        "# Demonstrating polymorphism\n",
        "sparrow.fly()\n",
        "penguin.fly()\n"
      ],
      "metadata": {
        "colab": {
          "base_uri": "https://localhost:8080/"
        },
        "id": "q1xdAyjtTbQD",
        "outputId": "53e5da79-fde4-467b-cbc4-e610003c84ea"
      },
      "execution_count": 4,
      "outputs": [
        {
          "output_type": "stream",
          "name": "stdout",
          "text": [
            "Sparrow flies high in the sky.\n",
            "Penguins cannot fly, but they can swim.\n"
          ]
        }
      ]
    },
    {
      "cell_type": "code",
      "source": [
        "#5.  Write a program to demonstrate encapsulation by creating a class BankAccount with private attributes balance and methods to deposit, withdraw, and check balance.\n",
        "\n",
        "# Class demonstrating encapsulation\n",
        "class BankAccount:\n",
        "    def __init__(self, initial_balance):\n",
        "        self.__balance = initial_balance  # Private attribute\n",
        "\n",
        "    # Method to deposit money\n",
        "    def deposit(self, amount):\n",
        "        if amount > 0:\n",
        "            self.__balance += amount\n",
        "            print(f\"Deposited: {amount}\")\n",
        "        else:\n",
        "            print(\"Deposit amount must be positive.\")\n",
        "\n",
        "    # Method to withdraw money\n",
        "    def withdraw(self, amount):\n",
        "        if amount > 0 and amount <= self.__balance:\n",
        "            self.__balance -= amount\n",
        "            print(f\"Withdrawn: {amount}\")\n",
        "        else:\n",
        "            print(\"Insufficient funds or invalid amount.\")\n",
        "\n",
        "    # Method to check balance\n",
        "    def check_balance(self):\n",
        "        print(f\"Current Balance: {self.__balance}\")\n",
        "\n",
        "# Create a BankAccount object\n",
        "account = BankAccount(500)\n",
        "\n",
        "# Demonstrating encapsulation\n",
        "account.check_balance()\n",
        "account.deposit(200)\n",
        "account.check_balance()\n",
        "account.withdraw(150)\n",
        "account.check_balance()"
      ],
      "metadata": {
        "colab": {
          "base_uri": "https://localhost:8080/"
        },
        "id": "DNKUIgmHUF2I",
        "outputId": "2c3d15b0-3e27-4372-888d-e83a1bd19770"
      },
      "execution_count": 5,
      "outputs": [
        {
          "output_type": "stream",
          "name": "stdout",
          "text": [
            "Current Balance: 500\n",
            "Deposited: 200\n",
            "Current Balance: 700\n",
            "Withdrawn: 150\n",
            "Current Balance: 550\n"
          ]
        }
      ]
    },
    {
      "cell_type": "code",
      "source": [
        "#6. Demonstrate runtime polymorphism using a method play() in a base class Instrument. Derive classes Guitar and Piano that implement their own version of play().\n",
        "\n",
        "# Base class\n",
        "class Instrument:\n",
        "    def play(self):\n",
        "        print(\"Playing instrument.\")\n",
        "\n",
        "# Derived class Guitar\n",
        "class Guitar(Instrument):\n",
        "    def play(self):\n",
        "        print(\"Strumming the guitar.\")\n",
        "\n",
        "# Derived class Piano\n",
        "class Piano(Instrument):\n",
        "    def play(self):\n",
        "        print(\"Playing the piano keys.\")\n",
        "\n",
        "# Demonstrating runtime polymorphism\n",
        "def perform_play(instrument: Instrument):\n",
        "    instrument.play()\n",
        "\n",
        "# Create objects of Guitar and Piano\n",
        "guitar = Guitar()\n",
        "piano = Piano()\n",
        "\n",
        "# Call the perform_play function with different instruments\n",
        "perform_play(guitar)\n",
        "perform_play(piano)"
      ],
      "metadata": {
        "colab": {
          "base_uri": "https://localhost:8080/"
        },
        "id": "7WDJ2nsKUZxZ",
        "outputId": "cd9532c3-bcb6-4a4f-e83d-cedcc0eeb673"
      },
      "execution_count": 6,
      "outputs": [
        {
          "output_type": "stream",
          "name": "stdout",
          "text": [
            "Strumming the guitar.\n",
            "Playing the piano keys.\n"
          ]
        }
      ]
    },
    {
      "cell_type": "code",
      "source": [
        "#7. Create a class MathOperations with a class method add_numbers() to add two numbers and a static method subtract_numbers() to subtract two numbers.\n",
        "\n",
        "class MathOperations:\n",
        "    # Class method to add two numbers\n",
        "    @classmethod\n",
        "    def add_numbers(cls, num1, num2):\n",
        "        return num1 + num2\n",
        "\n",
        "    # Static method to subtract two numbers\n",
        "    @staticmethod\n",
        "    def subtract_numbers(num1, num2):\n",
        "        return num1 - num2\n",
        "\n",
        "# Demonstrating the use of class and static methods\n",
        "result_addition = MathOperations.add_numbers(10, 5)\n",
        "result_subtraction = MathOperations.subtract_numbers(10, 5)\n",
        "\n",
        "# Printing the results\n",
        "print(f\"Addition Result: {result_addition}\")\n",
        "print(f\"Subtraction Result: {result_subtraction}\")"
      ],
      "metadata": {
        "colab": {
          "base_uri": "https://localhost:8080/"
        },
        "id": "gcdPinJUUjaf",
        "outputId": "a3629764-ddf5-4725-b64d-dd9a3bf94136"
      },
      "execution_count": 7,
      "outputs": [
        {
          "output_type": "stream",
          "name": "stdout",
          "text": [
            "Addition Result: 15\n",
            "Subtraction Result: 5\n"
          ]
        }
      ]
    },
    {
      "cell_type": "code",
      "source": [
        "#8.  Implement a class Person with a class method to count the total number of persons created.\n",
        "\n",
        "class Person:\n",
        "    # Class attribute to keep track of the total number of persons\n",
        "    total_persons = 0\n",
        "\n",
        "    def __init__(self, name, age):\n",
        "        self.name = name\n",
        "        self.age = age\n",
        "        Person.total_persons += 1  # Increment the total count whenever a new person is created\n",
        "\n",
        "    # Class method to get the total number of persons created\n",
        "    @classmethod\n",
        "    def get_total_persons(cls):\n",
        "        return cls.total_persons\n",
        "\n",
        "# Create Person objects\n",
        "person1 = Person(\"Alice\", 30)\n",
        "person2 = Person(\"Bob\", 25)\n",
        "person3 = Person(\"Charlie\", 35)\n",
        "\n",
        "# Call the class method to get the total number of persons created\n",
        "print(f\"Total number of persons created: {Person.get_total_persons()}\")"
      ],
      "metadata": {
        "colab": {
          "base_uri": "https://localhost:8080/"
        },
        "id": "YkULxW39Uv_j",
        "outputId": "4a510cb3-f5a2-4102-f160-3a51a6fdbcb3"
      },
      "execution_count": 8,
      "outputs": [
        {
          "output_type": "stream",
          "name": "stdout",
          "text": [
            "Total number of persons created: 3\n"
          ]
        }
      ]
    },
    {
      "cell_type": "code",
      "source": [
        "#9.  Write a class Fraction with attributes numerator and denominator. Override the str method to display the fraction as \"numerator/denominator\".\n",
        "\n",
        "class Fraction:\n",
        "    def __init__(self, numerator, denominator):\n",
        "        self.numerator = numerator\n",
        "        self.denominator = denominator\n",
        "\n",
        "    # Override the __str__ method to display the fraction as \"numerator/denominator\"\n",
        "    def __str__(self):\n",
        "        return f\"{self.numerator}/{self.denominator}\"\n",
        "\n",
        "# Create Fraction objects\n",
        "fraction1 = Fraction(3, 4)\n",
        "fraction2 = Fraction(5, 8)\n",
        "\n",
        "# Display the fractions using the overridden __str__ method\n",
        "print(fraction1)\n",
        "print(fraction2)"
      ],
      "metadata": {
        "colab": {
          "base_uri": "https://localhost:8080/"
        },
        "id": "TEjJxSp9U8gQ",
        "outputId": "a05c8f19-e05d-49ed-93ac-fcbd26b7407c"
      },
      "execution_count": 9,
      "outputs": [
        {
          "output_type": "stream",
          "name": "stdout",
          "text": [
            "3/4\n",
            "5/8\n"
          ]
        }
      ]
    },
    {
      "cell_type": "code",
      "source": [
        "#10.  Demonstrate operator overloading by creating a class Vector and overriding the add method to add two vectors.\n",
        "\n",
        "class Vector:\n",
        "    def __init__(self, x, y):\n",
        "        self.x = x\n",
        "        self.y = y\n",
        "\n",
        "    # Overload the + operator to add two vectors\n",
        "    def __add__(self, other):\n",
        "        # Add corresponding components of the two vectors\n",
        "        return Vector(self.x + other.x, self.y + other.y)\n",
        "\n",
        "    # Method to display the vector in a readable format\n",
        "    def __str__(self):\n",
        "        return f\"({self.x}, {self.y})\"\n",
        "\n",
        "# Create two Vector objects\n",
        "vector1 = Vector(2, 3)\n",
        "vector2 = Vector(4, 5)\n",
        "\n",
        "# Add the two vectors using the overloaded + operator\n",
        "result_vector = vector1 + vector2\n",
        "\n",
        "# Display the result\n",
        "print(f\"Vector 1: {vector1}\")\n",
        "print(f\"Vector 2: {vector2}\")\n",
        "print(f\"Resultant Vector: {result_vector}\")\n",
        "\n",
        "\n"
      ],
      "metadata": {
        "colab": {
          "base_uri": "https://localhost:8080/"
        },
        "id": "449XCLnRVIpv",
        "outputId": "d5838630-e6d6-40a5-87ae-c9878c50df79"
      },
      "execution_count": 10,
      "outputs": [
        {
          "output_type": "stream",
          "name": "stdout",
          "text": [
            "Vector 1: (2, 3)\n",
            "Vector 2: (4, 5)\n",
            "Resultant Vector: (6, 8)\n"
          ]
        }
      ]
    },
    {
      "cell_type": "code",
      "source": [
        "#11. Create a class Person with attributes name and age. Add a method greet() that prints \"Hello, my name is {name} and I am {age} years old.\n",
        "\n",
        "class Person:\n",
        "    def __init__(self, name, age):\n",
        "        self.name = name\n",
        "        self.age = age\n",
        "\n",
        "    # Method to greet and print personal details\n",
        "    def greet(self):\n",
        "        print(f\"Hello, my name is {self.name} and I am {self.age} years old.\")\n",
        "\n",
        "# Create a Person object\n",
        "person = Person(\"Alice\", 30)\n",
        "\n",
        "# Call the greet method\n",
        "person.greet()"
      ],
      "metadata": {
        "colab": {
          "base_uri": "https://localhost:8080/"
        },
        "id": "GS3G4RwvVW8o",
        "outputId": "47a23e2d-58ed-4c28-f434-2f154196c358"
      },
      "execution_count": 11,
      "outputs": [
        {
          "output_type": "stream",
          "name": "stdout",
          "text": [
            "Hello, my name is Alice and I am 30 years old.\n"
          ]
        }
      ]
    },
    {
      "cell_type": "code",
      "source": [
        "#12.  Implement a class Student with attributes name and grades. Create a method average_grade() to compute the average of the grades.\n",
        "\n",
        "class Student:\n",
        "    def __init__(self, name, grades):\n",
        "        self.name = name\n",
        "        self.grades = grades  # List of grades\n",
        "\n",
        "    # Method to compute the average of the grades\n",
        "    def average_grade(self):\n",
        "        if len(self.grades) == 0:  # To avoid division by zero if there are no grades\n",
        "            return 0\n",
        "        return sum(self.grades) / len(self.grades)\n",
        "\n",
        "# Create a Student object\n",
        "student = Student(\"John\", [85, 90, 78, 92, 88])\n",
        "\n",
        "# Call the average_grade method to compute the average\n",
        "average = student.average_grade()\n",
        "\n",
        "# Display the result\n",
        "print(f\"{student.name}'s average grade is: {average}\")"
      ],
      "metadata": {
        "colab": {
          "base_uri": "https://localhost:8080/"
        },
        "id": "LSjWulhlVgPP",
        "outputId": "e8885ce6-156e-4853-cefb-55dbcaa9a9a8"
      },
      "execution_count": 12,
      "outputs": [
        {
          "output_type": "stream",
          "name": "stdout",
          "text": [
            "John's average grade is: 86.6\n"
          ]
        }
      ]
    },
    {
      "cell_type": "code",
      "source": [
        "#13. Create a class Rectangle with methods set_dimensions() to set the dimensions and area() to calculate the area.\n",
        "\n",
        "class Rectangle:\n",
        "    def __init__(self):\n",
        "        self.length = 0\n",
        "        self.width = 0\n",
        "\n",
        "    # Method to set the dimensions of the rectangle\n",
        "    def set_dimensions(self, length, width):\n",
        "        self.length = length\n",
        "        self.width = width\n",
        "\n",
        "    # Method to calculate the area of the rectangle\n",
        "    def area(self):\n",
        "        return self.length * self.width\n",
        "\n",
        "# Create a Rectangle object\n",
        "rectangle = Rectangle()\n",
        "\n",
        "# Set the dimensions of the rectangle\n",
        "rectangle.set_dimensions(5, 10)\n",
        "\n",
        "# Calculate the area of the rectangle\n",
        "area = rectangle.area()\n",
        "\n",
        "# Display the result\n",
        "print(f\"The area of the rectangle is: {area}\")"
      ],
      "metadata": {
        "colab": {
          "base_uri": "https://localhost:8080/"
        },
        "id": "NpG1nbVYVqT9",
        "outputId": "fdcf1a71-a895-4892-f49b-3cc0a3abf0d3"
      },
      "execution_count": 13,
      "outputs": [
        {
          "output_type": "stream",
          "name": "stdout",
          "text": [
            "The area of the rectangle is: 50\n"
          ]
        }
      ]
    },
    {
      "cell_type": "code",
      "source": [
        "#14. Create a class Employee with a method calculate_salary() that computes the salary based on hours worked and hourly rate. Create a derived class Manager that adds a bonus to the salary.\n",
        "\n",
        "class Employee:\n",
        "    def __init__(self, name, hours_worked, hourly_rate):\n",
        "        self.name = name\n",
        "        self.hours_worked = hours_worked\n",
        "        self.hourly_rate = hourly_rate\n",
        "\n",
        "    # Method to calculate the salary based on hours worked and hourly rate\n",
        "    def calculate_salary(self):\n",
        "        return self.hours_worked * self.hourly_rate\n",
        "\n",
        "# Derived class Manager\n",
        "class Manager(Employee):\n",
        "    def __init__(self, name, hours_worked, hourly_rate, bonus):\n",
        "        # Initialize attributes of the parent class\n",
        "        super().__init__(name, hours_worked, hourly_rate)\n",
        "        self.bonus = bonus\n",
        "\n",
        "    # Override the calculate_salary method to include the bonus\n",
        "    def calculate_salary(self):\n",
        "        base_salary = super().calculate_salary()\n",
        "        return base_salary + self.bonus\n",
        "\n",
        "# Create an Employee object\n",
        "employee = Employee(\"John Doe\", 160, 25)  # 160 hours worked, hourly rate 25\n",
        "employee_salary = employee.calculate_salary()\n",
        "\n",
        "# Create a Manager object\n",
        "manager = Manager(\"Jane Smith\", 160, 30, 1000)  # 160 hours worked, hourly rate 30, bonus 1000\n",
        "manager_salary = manager.calculate_salary()\n",
        "\n",
        "# Display the results\n",
        "print(f\"Employee Salary: ${employee_salary}\")\n",
        "print(f\"Manager Salary (including bonus): ${manager_salary}\")"
      ],
      "metadata": {
        "colab": {
          "base_uri": "https://localhost:8080/"
        },
        "id": "18VUZCqcVz1P",
        "outputId": "fe833431-4d87-469a-895a-2597dd9f6c09"
      },
      "execution_count": 14,
      "outputs": [
        {
          "output_type": "stream",
          "name": "stdout",
          "text": [
            "Employee Salary: $4000\n",
            "Manager Salary (including bonus): $5800\n"
          ]
        }
      ]
    },
    {
      "cell_type": "code",
      "source": [
        "#15. Create a class Product with attributes name, price, and quantity. Implement a method total_price() that calculates the total price of the product.\n",
        "\n",
        "class Product:\n",
        "    def __init__(self, name, price, quantity):\n",
        "        self.name = name\n",
        "        self.price = price\n",
        "        self.quantity = quantity\n",
        "\n",
        "    # Method to calculate the total price of the product\n",
        "    def total_price(self):\n",
        "        return self.price * self.quantity\n",
        "\n",
        "# Create a Product object\n",
        "product = Product(\"Laptop\", 1000, 3)  # Price: 1000, Quantity: 3\n",
        "\n",
        "# Calculate the total price of the product\n",
        "total = product.total_price()\n",
        "\n",
        "# Display the result\n",
        "print(f\"The total price of {product.name} is: ${total}\")"
      ],
      "metadata": {
        "colab": {
          "base_uri": "https://localhost:8080/"
        },
        "id": "q8d7XUj4WExf",
        "outputId": "82e18631-b2fe-4f66-e367-0481efc2b020"
      },
      "execution_count": 15,
      "outputs": [
        {
          "output_type": "stream",
          "name": "stdout",
          "text": [
            "The total price of Laptop is: $3000\n"
          ]
        }
      ]
    },
    {
      "cell_type": "code",
      "source": [
        "#16. Create a class Animal with an abstract method sound(). Create two derived classes Cow and Sheep that implement the sound() method.\n",
        "\n",
        "from abc import ABC, abstractmethod\n",
        "\n",
        "# Abstract base class\n",
        "class Animal(ABC):\n",
        "    @abstractmethod\n",
        "    def sound(self):\n",
        "        pass\n",
        "\n",
        "# Derived class Cow\n",
        "class Cow(Animal):\n",
        "    def sound(self):\n",
        "        return \"Moo\"\n",
        "\n",
        "# Derived class Sheep\n",
        "class Sheep(Animal):\n",
        "    def sound(self):\n",
        "        return \"Baa\"\n",
        "\n",
        "# Create instances of Cow and Sheep\n",
        "cow = Cow()\n",
        "sheep = Sheep()\n",
        "\n",
        "# Display the sounds made by Cow and Sheep\n",
        "print(f\"Cow makes sound: {cow.sound()}\")\n",
        "print(f\"Sheep makes sound: {sheep.sound()}\")"
      ],
      "metadata": {
        "colab": {
          "base_uri": "https://localhost:8080/"
        },
        "id": "lMhrmTlgWRRc",
        "outputId": "3a7cb3a5-3993-4e64-8ef7-792a3e604e6c"
      },
      "execution_count": 16,
      "outputs": [
        {
          "output_type": "stream",
          "name": "stdout",
          "text": [
            "Cow makes sound: Moo\n",
            "Sheep makes sound: Baa\n"
          ]
        }
      ]
    },
    {
      "cell_type": "code",
      "source": [
        "#17.  Create a class Book with attributes title, author, and year_published. Add a method get_book_info() that returns a formatted string with the book's details.\n",
        "\n",
        "class Book:\n",
        "    def __init__(self, title, author, year_published):\n",
        "        self.title = title\n",
        "        self.author = author\n",
        "        self.year_published = year_published\n",
        "\n",
        "    # Method to get book information as a formatted string\n",
        "    def get_book_info(self):\n",
        "        return f\"Title: {self.title}\\nAuthor: {self.author}\\nYear Published: {self.year_published}\"\n",
        "\n",
        "# Create a Book object\n",
        "book = Book(\"To Kill a Mockingbird\", \"Harper Lee\", 1960)\n",
        "\n",
        "# Get and display the book information\n",
        "book_info = book.get_book_info()\n",
        "print(book_info)\n"
      ],
      "metadata": {
        "colab": {
          "base_uri": "https://localhost:8080/"
        },
        "id": "B8To1jgVWeR_",
        "outputId": "0e9ef439-10e1-4dd2-ae77-a3a37da383b0"
      },
      "execution_count": 17,
      "outputs": [
        {
          "output_type": "stream",
          "name": "stdout",
          "text": [
            "Title: To Kill a Mockingbird\n",
            "Author: Harper Lee\n",
            "Year Published: 1960\n"
          ]
        }
      ]
    },
    {
      "cell_type": "code",
      "source": [
        "#18. Create a class House with attributes address and price. Create a derived class Mansion that adds an attribute number_of_rooms.\n",
        "\n",
        "# Base class\n",
        "class House:\n",
        "    def __init__(self, address, price):\n",
        "        self.address = address\n",
        "        self.price = price\n",
        "\n",
        "    # Method to display the details of the house\n",
        "    def get_house_info(self):\n",
        "        return f\"Address: {self.address}\\nPrice: ${self.price}\"\n",
        "\n",
        "# Derived class Mansion\n",
        "class Mansion(House):\n",
        "    def __init__(self, address, price, number_of_rooms):\n",
        "        # Initialize attributes of the parent class\n",
        "        super().__init__(address, price)\n",
        "        self.number_of_rooms = number_of_rooms\n",
        "\n",
        "    # Method to display the details of the mansion (including number of rooms)\n",
        "    def get_mansion_info(self):\n",
        "        house_info = self.get_house_info()\n",
        "        return f\"{house_info}\\nNumber of Rooms: {self.number_of_rooms}\"\n",
        "\n",
        "# Create a House object\n",
        "house = House(\"123 Elm Street\", 200000)\n",
        "\n",
        "# Create a Mansion object\n",
        "mansion = Mansion(\"456 Oak Avenue\", 5000000, 12)\n",
        "\n",
        "# Display the information\n",
        "print(\"House Information:\")\n",
        "print(house.get_house_info())\n",
        "\n",
        "print(\"\\nMansion Information:\")\n",
        "print(mansion.get_mansion_info())\n"
      ],
      "metadata": {
        "colab": {
          "base_uri": "https://localhost:8080/"
        },
        "id": "7xkDcBlkWt5C",
        "outputId": "d7c14ebb-87c7-45b9-dcf0-6cc01f159608"
      },
      "execution_count": 18,
      "outputs": [
        {
          "output_type": "stream",
          "name": "stdout",
          "text": [
            "House Information:\n",
            "Address: 123 Elm Street\n",
            "Price: $200000\n",
            "\n",
            "Mansion Information:\n",
            "Address: 456 Oak Avenue\n",
            "Price: $5000000\n",
            "Number of Rooms: 12\n"
          ]
        }
      ]
    }
  ]
}